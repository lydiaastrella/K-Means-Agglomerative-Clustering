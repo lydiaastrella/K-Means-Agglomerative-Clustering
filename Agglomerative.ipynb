{
 "cells": [
  {
   "cell_type": "code",
   "execution_count": 1,
   "metadata": {},
   "outputs": [],
   "source": [
    "import pandas\n",
    "import math\n",
    "import agglomerative\n",
    "import matplotlib.pyplot as plt\n",
    "from sklearn import datasets\n",
    "from sklearn.decomposition import PCA\n",
    "from sklearn import preprocessing\n",
    "\n",
    "\n",
    "iris = datasets.load_iris()\n",
    "data = iris.data\n",
    "\n",
    "df = pandas.DataFrame(data)\n",
    "df.columns = iris.feature_names"
   ]
  },
  {
   "cell_type": "code",
   "execution_count": 2,
   "metadata": {
    "scrolled": true
   },
   "outputs": [
    {
     "name": "stdout",
     "output_type": "stream",
     "text": [
      "jumlah cluster : 3\n",
      "[[0, 17, 40, 4, 37, 7, 39, 49, 27, 28, 35, 10, 48, 26, 43, 1, 9, 34, 12, 45, 29, 30, 11, 24, 25, 2, 3, 47, 8, 38, 42, 6, 23, 19, 21, 46, 13, 44, 20, 31, 36, 14, 15, 32, 33, 5, 16, 18, 22, 41], [50, 52, 86, 54, 58, 65, 75, 74, 97, 53, 89, 69, 80, 81, 55, 88, 95, 96, 99, 94, 67, 82, 92, 71, 90, 61, 63, 91, 78, 73, 66, 84, 51, 56, 85, 59, 64, 79, 76, 77, 62, 68, 87, 119, 70, 127, 138, 149, 123, 126, 146, 72, 133, 83, 101, 142, 113, 121, 114, 100, 136, 148, 103, 116, 137, 111, 110, 147, 115, 112, 139, 141, 145, 104, 128, 132, 120, 143, 124, 144, 140, 102, 125, 129, 107, 130, 108, 134, 105, 122, 118, 135, 109, 117, 131], [57, 93, 60, 98, 106]]\n"
     ]
    }
   ],
   "source": [
    "#Clustering using single-linkage\n",
    "jml_cluster = int(input(\"jumlah cluster : \"))\n",
    "single_cluster = agglomerative.Clustering(df, 'single', jml_cluster)\n",
    "print(single_cluster)"
   ]
  },
  {
   "cell_type": "code",
   "execution_count": 3,
   "metadata": {},
   "outputs": [
    {
     "name": "stdout",
     "output_type": "stream",
     "text": [
      "jumlah cluster : 3\n",
      "[[0, 17, 40, 4, 37, 7, 39, 49, 27, 28, 35, 10, 48, 26, 43, 1, 9, 34, 12, 45, 29, 30, 11, 24, 25, 2, 3, 47, 8, 38, 42, 6, 23, 19, 21, 46, 44, 13, 20, 31, 36, 14, 15, 32, 33, 5, 16, 18, 22, 41], [50, 52, 86, 54, 58, 65, 75, 74, 97, 53, 89, 69, 80, 81, 55, 88, 95, 96, 99, 94, 67, 82, 92, 71, 90, 61, 63, 91, 73, 78, 66, 84, 51, 56, 85, 64, 79, 76, 77, 62, 68, 87, 119, 70, 127, 138, 149, 123, 126, 146, 72, 133, 83, 101, 142, 113, 121, 114, 100, 136, 148, 103, 116, 137, 111, 110, 147, 115, 141, 145, 104, 128, 132, 112, 139, 120, 143, 124, 144, 140, 102, 125, 129, 107, 130, 57, 93, 60, 98, 59, 106], [105, 122, 118, 135, 109, 117, 131, 108, 134]]\n"
     ]
    }
   ],
   "source": [
    "#Clustering using complete-linkage\n",
    "jml_cluster = int(input(\"jumlah cluster : \"))\n",
    "complete_cluster = agglomerative.Clustering(df, 'complete', jml_cluster)\n",
    "print(complete_cluster)"
   ]
  },
  {
   "cell_type": "code",
   "execution_count": 4,
   "metadata": {},
   "outputs": [
    {
     "name": "stdout",
     "output_type": "stream",
     "text": [
      "jumlah cluster : 3\n",
      "[[0, 17, 40, 7, 39, 49, 27, 28, 4, 37, 35, 10, 48, 19, 21, 46, 20, 31, 36, 23, 26, 43, 5, 16, 18, 44, 1, 12, 45, 9, 34, 25, 11, 29, 30, 24, 2, 42, 3, 47, 6, 8, 38, 13, 22, 14, 32, 33, 15, 41], [50, 52, 86, 76, 54, 58, 65, 75, 51, 56, 85, 63, 91, 78, 73, 71, 74, 97, 70, 127, 138, 149, 72, 133, 83, 123, 126, 146, 101, 142, 113, 121, 114, 53, 89, 69, 80, 81, 59, 64, 79, 55, 88, 99, 95, 96, 94, 61, 67, 82, 92, 90, 66, 84, 62, 68, 87, 119, 106, 57, 93, 60, 98], [77, 110, 147, 103, 116, 137, 111, 104, 128, 132, 100, 115, 136, 148, 112, 139, 141, 145, 120, 143, 124, 144, 140, 108, 134, 102, 125, 129, 107, 130, 109, 105, 122, 118, 135, 117, 131]]\n"
     ]
    }
   ],
   "source": [
    "#Clustering using average-linkage\n",
    "jml_cluster = int(input(\"jumlah cluster : \"))\n",
    "average_cluster = agglomerative.Clustering(df, 'average', jml_cluster)\n",
    "print(average_cluster)"
   ]
  },
  {
   "cell_type": "code",
   "execution_count": 5,
   "metadata": {},
   "outputs": [
    {
     "name": "stdout",
     "output_type": "stream",
     "text": [
      "jumlah cluster : 3\n",
      "[[0, 17, 40, 4, 37, 49, 7, 39, 26, 43, 27, 28, 23, 20, 31, 36, 5, 16, 10, 48, 19, 21, 46, 32, 24, 44, 1, 12, 45, 9, 34, 25, 2, 42, 6, 47, 3, 11, 29, 30, 35, 8, 38, 13, 22, 14, 15, 33, 18, 41], [50, 86, 52, 141, 77, 145, 76, 51, 56, 85, 54, 58, 65, 75, 74, 97, 100, 136, 148, 120, 124, 144, 143, 103, 128, 132, 104, 112, 140, 116, 137, 110, 115, 147, 139, 108, 134, 63, 73, 126, 78, 91, 127, 138, 70, 72, 146, 123, 133, 111, 83, 101, 142, 114, 149, 121, 113, 119, 53, 69, 89, 80, 81, 59, 55, 66, 84, 90, 61, 95, 96, 88, 67, 99, 82, 92, 94, 71, 64, 79, 62, 68, 87, 106, 57, 93, 60, 98], [102, 129, 125, 109, 105, 135, 107, 130, 118, 122, 117, 131]]\n"
     ]
    }
   ],
   "source": [
    "#Clustering using average group-linkage\n",
    "jml_cluster = int(input(\"jumlah cluster : \"))\n",
    "avg_group_cluster = agglomerative.Clustering(df, 'average group', jml_cluster)\n",
    "print(avg_group_cluster)"
   ]
  },
  {
   "cell_type": "code",
   "execution_count": 7,
   "metadata": {},
   "outputs": [],
   "source": [
    "#Reduce 4D to 2D\n",
    "# perform principle component analysis\n",
    "pca = PCA(n_components=2)\n",
    "pc = pca.fit_transform(df)\n",
    "\n",
    "# pca_c = PCA(n_components=2)\n",
    "# pc_c = pca.fit_transform(np.array(new_centroid))"
   ]
  },
  {
   "cell_type": "code",
   "execution_count": 8,
   "metadata": {},
   "outputs": [
    {
     "data": {
      "text/plain": [
       "<Figure size 864x864 with 0 Axes>"
      ]
     },
     "metadata": {},
     "output_type": "display_data"
    }
   ],
   "source": [
    "plt.figure(figsize = (12, 12))\n",
    "plt.clf()\n",
    "\n",
    "x_min, x_max = pc[:, 0].min() - 1, pc[:, 0].max() + 1\n",
    "y_min, y_max = pc[:, 1].min() - 1, pc[:, 1].max() + 1"
   ]
  },
  {
   "cell_type": "code",
   "execution_count": 9,
   "metadata": {},
   "outputs": [
    {
     "data": {
      "image/png": "[encoded data removed]",
      "text/plain": [
       "<Figure size 432x288 with 1 Axes>"
      ]
     },
     "metadata": {},
     "output_type": "display_data"
    }
   ],
   "source": [
    "#Visualizing sinle-linkage\n",
    "\n",
    "single_cluster_num = agglomerative.Convert(single_cluster, len(df.index))\n",
    "\n",
    "for i, point in enumerate(pc):\n",
    "    if single_cluster_num[i] == 1:\n",
    "        plt.plot(point[0], point[1], 'g.', markersize = 10)\n",
    "    if single_cluster_num[i] == 2:\n",
    "        plt.plot(point[0], point[1], 'r.', markersize = 10)\n",
    "    if single_cluster_num[i] == 3:\n",
    "        plt.plot(point[0], point[1], 'b.', markersize = 10)\n",
    "               \n",
    "plt.title('Single-Linkage Aggromerative Clustering')\n",
    "plt.xlim(x_min, x_max)\n",
    "plt.ylim(y_min, y_max)\n",
    "plt.xlabel('PC1')\n",
    "plt.ylabel('PC2')\n",
    "plt.xticks(())\n",
    "plt.yticks(())\n",
    "\n",
    "plt.show()"
   ]
  },
  {
   "cell_type": "code",
   "execution_count": 10,
   "metadata": {},
   "outputs": [
    {
     "data": {
      "image/png": "[encoded data removed]",
      "text/plain": [
       "<Figure size 432x288 with 1 Axes>"
      ]
     },
     "metadata": {},
     "output_type": "display_data"
    }
   ],
   "source": [
    "#Visualizing complete-linkage\n",
    "\n",
    "complete_cluster_num = agglomerative.Convert(complete_cluster, len(df.index))\n",
    "\n",
    "for i, point in enumerate(pc):\n",
    "    if complete_cluster_num[i] == 1:\n",
    "        plt.plot(point[0], point[1], 'g.', markersize = 10)\n",
    "    if complete_cluster_num[i] == 2:\n",
    "        plt.plot(point[0], point[1], 'r.', markersize = 10)\n",
    "    if complete_cluster_num[i] == 3:\n",
    "        plt.plot(point[0], point[1], 'b.', markersize = 10)\n",
    "            \n",
    "plt.title('Complete-Linkage Aggromerative Clustering')\n",
    "plt.xlim(x_min, x_max)\n",
    "plt.ylim(y_min, y_max)\n",
    "plt.xlabel('PC1')\n",
    "plt.ylabel('PC2')\n",
    "plt.xticks(())\n",
    "plt.yticks(())\n",
    "\n",
    "plt.show()"
   ]
  },
  {
   "cell_type": "code",
   "execution_count": 11,
   "metadata": {},
   "outputs": [
    {
     "data": {
      "image/png": "[encoded data removed]",
      "text/plain": [
       "<Figure size 432x288 with 1 Axes>"
      ]
     },
     "metadata": {},
     "output_type": "display_data"
    }
   ],
   "source": [
    "#Visualizing average-linkage\n",
    "\n",
    "average_cluster_num = agglomerative.Convert(average_cluster, len(df.index))\n",
    "\n",
    "for i, point in enumerate(pc):\n",
    "    if average_cluster_num[i] == 1:\n",
    "        plt.plot(point[0], point[1], 'g.', markersize = 10)\n",
    "    if average_cluster_num[i] == 2:\n",
    "        plt.plot(point[0], point[1], 'r.', markersize = 10)\n",
    "    if average_cluster_num[i] == 3:\n",
    "        plt.plot(point[0], point[1], 'b.', markersize = 10)\n",
    "                \n",
    "plt.title('Average-Linkage Aggromerative Clustering')\n",
    "plt.xlim(x_min, x_max)\n",
    "plt.ylim(y_min, y_max)\n",
    "plt.xlabel('PC1')\n",
    "plt.ylabel('PC2')\n",
    "plt.xticks(())\n",
    "plt.yticks(())\n",
    "\n",
    "plt.show()"
   ]
  },
  {
   "cell_type": "code",
   "execution_count": 12,
   "metadata": {},
   "outputs": [
    {
     "data": {
      "image/png": "[encoded data removed]",
      "text/plain": [
       "<Figure size 432x288 with 1 Axes>"
      ]
     },
     "metadata": {},
     "output_type": "display_data"
    }
   ],
   "source": [
    "#Visualizing average group-linkage\n",
    "\n",
    "avg_group_cluster_num = agglomerative.Convert(avg_group_cluster, len(df.index))\n",
    "\n",
    "for i, point in enumerate(pc):\n",
    "    if avg_group_cluster_num[i] == 1:\n",
    "        plt.plot(point[0], point[1], 'g.', markersize = 10)\n",
    "    if avg_group_cluster_num[i] == 2:\n",
    "        plt.plot(point[0], point[1], 'r.', markersize = 10)\n",
    "    if avg_group_cluster_num[i] == 3:\n",
    "        plt.plot(point[0], point[1], 'b.', markersize = 10)\n",
    "                \n",
    "plt.title('Average Group-Linkage Aggromerative Clustering')\n",
    "plt.xlim(x_min, x_max)\n",
    "plt.ylim(y_min, y_max)\n",
    "plt.xlabel('PC1')\n",
    "plt.ylabel('PC2')\n",
    "plt.xticks(())\n",
    "plt.yticks(())\n",
    "\n",
    "plt.show()"
   ]
  },
  {
   "cell_type": "code",
   "execution_count": 15,
   "metadata": {},
   "outputs": [
    {
     "data": {
      "text/plain": [
       "0.7520466247452129"
      ]
     },
     "execution_count": 15,
     "metadata": {},
     "output_type": "execute_result"
    }
   ],
   "source": [
    "from sklearn.metrics.cluster import fowlkes_mallows_score\n",
    "\n",
    "target_clusters = pandas.read_csv('iris.csv')['variety'].tolist()\n",
    "\n",
    "\n",
    "# Fowlkes-Mallows Single-Linkage\n",
    "fowlkes_mallows_score(target_clusters, single_cluster_num)"
   ]
  },
  {
   "cell_type": "code",
   "execution_count": 16,
   "metadata": {},
   "outputs": [
    {
     "data": {
      "text/plain": [
       "0.7451674797394596"
      ]
     },
     "execution_count": 16,
     "metadata": {},
     "output_type": "execute_result"
    }
   ],
   "source": [
    "# Fowlkes-Mallows Complete-Linkage\n",
    "fowlkes_mallows_score(target_clusters, complete_cluster_num)"
   ]
  },
  {
   "cell_type": "code",
   "execution_count": 17,
   "metadata": {},
   "outputs": [
    {
     "data": {
      "text/plain": [
       "0.8306394195437843"
      ]
     },
     "execution_count": 17,
     "metadata": {},
     "output_type": "execute_result"
    }
   ],
   "source": [
    "# Fowlkes-Mallows Average-Linkage\n",
    "fowlkes_mallows_score(target_clusters, average_cluster_num)"
   ]
  },
  {
   "cell_type": "code",
   "execution_count": 18,
   "metadata": {},
   "outputs": [
    {
     "data": {
      "text/plain": [
       "0.7421637537684369"
      ]
     },
     "execution_count": 18,
     "metadata": {},
     "output_type": "execute_result"
    }
   ],
   "source": [
    "# Fowlkes-Mallows Average-Linkage\n",
    "fowlkes_mallows_score(target_clusters, avg_group_cluster_num)"
   ]
  },
  {
   "cell_type": "code",
   "execution_count": 19,
   "metadata": {},
   "outputs": [
    {
     "data": {
      "text/plain": [
       "0.46339551175370974"
      ]
     },
     "execution_count": 19,
     "metadata": {},
     "output_type": "execute_result"
    }
   ],
   "source": [
    "from sklearn.metrics import silhouette_score\n",
    "\n",
    "# Shilouette Coefficient Single-Linkage\n",
    "silhouette_score(datasets.load_iris().data, single_cluster_num)"
   ]
  },
  {
   "cell_type": "code",
   "execution_count": 20,
   "metadata": {},
   "outputs": [
    {
     "data": {
      "text/plain": [
       "0.4973519883766663"
      ]
     },
     "execution_count": 20,
     "metadata": {},
     "output_type": "execute_result"
    }
   ],
   "source": [
    "# Shilouette Coefficient Complete-Linkage\n",
    "silhouette_score(datasets.load_iris().data, complete_cluster_num)"
   ]
  },
  {
   "cell_type": "code",
   "execution_count": 21,
   "metadata": {},
   "outputs": [
    {
     "data": {
      "text/plain": [
       "0.5535372928319974"
      ]
     },
     "execution_count": 21,
     "metadata": {},
     "output_type": "execute_result"
    }
   ],
   "source": [
    "# Shilouette Coefficient Average-Linkage\n",
    "silhouette_score(datasets.load_iris().data, average_cluster_num)"
   ]
  },
  {
   "cell_type": "code",
   "execution_count": 22,
   "metadata": {},
   "outputs": [
    {
     "data": {
      "text/plain": [
       "0.5340213263943496"
      ]
     },
     "execution_count": 22,
     "metadata": {},
     "output_type": "execute_result"
    }
   ],
   "source": [
    "# Shilouette Coefficient Average Group-Linkage\n",
    "silhouette_score(datasets.load_iris().data, avg_group_cluster_num)"
   ]
  },
  {
   "cell_type": "code",
   "execution_count": null,
   "metadata": {},
   "outputs": [],
   "source": []
  }
 ],
 "metadata": {
  "kernelspec": {
   "display_name": "Python 3",
   "language": "python",
   "name": "python3"
  },
  "language_info": {
   "codemirror_mode": {
    "name": "ipython",
    "version": 3
   },
   "file_extension": ".py",
   "mimetype": "text/x-python",
   "name": "python",
   "nbconvert_exporter": "python",
   "pygments_lexer": "ipython3",
   "version": "3.7.2"
  }
 },
 "nbformat": 4,
 "nbformat_minor": 2
}
